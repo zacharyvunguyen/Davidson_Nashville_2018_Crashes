{
 "cells": [
  {
   "cell_type": "code",
   "execution_count": 1,
   "metadata": {
    "collapsed": true,
    "pycharm": {
     "is_executing": false
    }
   },
   "outputs": [],
   "source": [
    "import pandas as pd\n",
    "import matplotlib.pyplot as plt\n",
    "%matplotlib inline\n"
   ]
  },
  {
   "cell_type": "code",
   "execution_count": 2,
   "outputs": [
    {
     "data": {
      "text/plain": "   Accident Number           Date and Time  Number of Motor Vehicles  \\\n0      20181075326  12/31/2018 11:10:00 PM                       1.0   \n1      20181075323  12/31/2018 11:09:00 PM                       3.0   \n\n   Number of Injuries  Number of Fatalities Property Damage Hit and Run  \\\n0                   0                     0             NaN           N   \n1                   1                     0             NaN           N   \n\n   Reporting Officer  Collision Type Code  \\\n0           240964.0                  0.0   \n1           110062.0                  4.0   \n\n                Collision Type Description  ...  \\\n0  NOT COLLISION W/MOTOR VEHICLE-TRANSPORT  ...   \n1                                    ANGLE  ...   \n\n                          Harmful Code Description  \\\n0                                   CURB;SHRUBBERY   \n1  MOTOR VEHICLE IN TRANSPORT;PARKED MOTOR VEHICLE   \n\n                 Street Address       City State      Zip     RPA Precinct  \\\n0  ROCKWOOD DR & SADDLESTONE DR  HERMITAGE    TN  37076.0  9557.0   HERMIT   \n1          SPRING ST & N 1ST ST  NASHVILLE    TN  37213.0  1985.0   CENTRA   \n\n  Latitude Longitude      Mapped Location  \n0  36.1769  -86.5971  (36.1769, -86.5971)  \n1  36.1770  -86.7746   (36.177, -86.7746)  \n\n[2 rows x 25 columns]",
      "text/html": "<div>\n<style scoped>\n    .dataframe tbody tr th:only-of-type {\n        vertical-align: middle;\n    }\n\n    .dataframe tbody tr th {\n        vertical-align: top;\n    }\n\n    .dataframe thead th {\n        text-align: right;\n    }\n</style>\n<table border=\"1\" class=\"dataframe\">\n  <thead>\n    <tr style=\"text-align: right;\">\n      <th></th>\n      <th>Accident Number</th>\n      <th>Date and Time</th>\n      <th>Number of Motor Vehicles</th>\n      <th>Number of Injuries</th>\n      <th>Number of Fatalities</th>\n      <th>Property Damage</th>\n      <th>Hit and Run</th>\n      <th>Reporting Officer</th>\n      <th>Collision Type Code</th>\n      <th>Collision Type Description</th>\n      <th>...</th>\n      <th>Harmful Code Description</th>\n      <th>Street Address</th>\n      <th>City</th>\n      <th>State</th>\n      <th>Zip</th>\n      <th>RPA</th>\n      <th>Precinct</th>\n      <th>Latitude</th>\n      <th>Longitude</th>\n      <th>Mapped Location</th>\n    </tr>\n  </thead>\n  <tbody>\n    <tr>\n      <th>0</th>\n      <td>20181075326</td>\n      <td>12/31/2018 11:10:00 PM</td>\n      <td>1.0</td>\n      <td>0</td>\n      <td>0</td>\n      <td>NaN</td>\n      <td>N</td>\n      <td>240964.0</td>\n      <td>0.0</td>\n      <td>NOT COLLISION W/MOTOR VEHICLE-TRANSPORT</td>\n      <td>...</td>\n      <td>CURB;SHRUBBERY</td>\n      <td>ROCKWOOD DR &amp; SADDLESTONE DR</td>\n      <td>HERMITAGE</td>\n      <td>TN</td>\n      <td>37076.0</td>\n      <td>9557.0</td>\n      <td>HERMIT</td>\n      <td>36.1769</td>\n      <td>-86.5971</td>\n      <td>(36.1769, -86.5971)</td>\n    </tr>\n    <tr>\n      <th>1</th>\n      <td>20181075323</td>\n      <td>12/31/2018 11:09:00 PM</td>\n      <td>3.0</td>\n      <td>1</td>\n      <td>0</td>\n      <td>NaN</td>\n      <td>N</td>\n      <td>110062.0</td>\n      <td>4.0</td>\n      <td>ANGLE</td>\n      <td>...</td>\n      <td>MOTOR VEHICLE IN TRANSPORT;PARKED MOTOR VEHICLE</td>\n      <td>SPRING ST &amp; N 1ST ST</td>\n      <td>NASHVILLE</td>\n      <td>TN</td>\n      <td>37213.0</td>\n      <td>1985.0</td>\n      <td>CENTRA</td>\n      <td>36.1770</td>\n      <td>-86.7746</td>\n      <td>(36.177, -86.7746)</td>\n    </tr>\n  </tbody>\n</table>\n<p>2 rows × 25 columns</p>\n</div>"
     },
     "metadata": {},
     "output_type": "execute_result",
     "execution_count": 2
    }
   ],
   "source": [
    "#Import raw data\n",
    "import_df=pd.read_csv(\"../Data_Sources/Metro_Nashville___Davidson_County_Traffic_Crashes__2018_.csv\")\n",
    "import_df.head(2)"
   ],
   "metadata": {
    "collapsed": false,
    "pycharm": {
     "name": "#%%\n",
     "is_executing": false
    }
   }
  },
  {
   "cell_type": "code",
   "source": [
    "import_df.dtypes"
   ],
   "metadata": {
    "collapsed": false,
    "pycharm": {
     "name": "#%%\n",
     "is_executing": false
    }
   },
   "execution_count": 3,
   "outputs": [
    {
     "data": {
      "text/plain": "Accident Number                 int64\nDate and Time                  object\nNumber of Motor Vehicles      float64\nNumber of Injuries              int64\nNumber of Fatalities            int64\nProperty Damage                object\nHit and Run                    object\nReporting Officer             float64\nCollision Type Code           float64\nCollision Type Description     object\nWeather Code                  float64\nWeather Description            object\nIllumination Code             float64\nIllumination Description       object\nHarmful Code                   object\nHarmful Code Description       object\nStreet Address                 object\nCity                           object\nState                          object\nZip                           float64\nRPA                           float64\nPrecinct                       object\nLatitude                      float64\nLongitude                     float64\nMapped Location                object\ndtype: object"
     },
     "metadata": {},
     "output_type": "execute_result",
     "execution_count": 3
    }
   ]
  },
  {
   "cell_type": "code",
   "execution_count": 4,
   "outputs": [],
   "source": [
    "#Import datetime library\n",
    "import datetime\n"
   ],
   "metadata": {
    "collapsed": false,
    "pycharm": {
     "name": "#%%\n",
     "is_executing": false
    }
   }
  },
  {
   "cell_type": "code",
   "execution_count": 5,
   "outputs": [
    {
     "data": {
      "text/plain": "Index(['Accident Number', 'Date and Time', 'Number of Motor Vehicles',\n       'Number of Injuries', 'Number of Fatalities', 'Property Damage',\n       'Hit and Run', 'Reporting Officer', 'Collision Type Code',\n       'Collision Type Description', 'Weather Code', 'Weather Description',\n       'Illumination Code', 'Illumination Description', 'Harmful Code',\n       'Harmful Code Description', 'Street Address', 'City', 'State', 'Zip',\n       'RPA', 'Precinct', 'Latitude', 'Longitude', 'Mapped Location'],\n      dtype='object')"
     },
     "metadata": {},
     "output_type": "execute_result",
     "execution_count": 5
    }
   ],
   "source": [
    "import_df.columns\n"
   ],
   "metadata": {
    "collapsed": false,
    "pycharm": {
     "name": "#%%\n",
     "is_executing": false
    }
   }
  },
  {
   "cell_type": "code",
   "execution_count": 6,
   "outputs": [
    {
     "data": {
      "text/plain": "   Accident Number           Date and Time  Latitude  Longitude\n0      20181075326  12/31/2018 11:10:00 PM   36.1769   -86.5971\n1      20181075323  12/31/2018 11:09:00 PM   36.1770   -86.7746",
      "text/html": "<div>\n<style scoped>\n    .dataframe tbody tr th:only-of-type {\n        vertical-align: middle;\n    }\n\n    .dataframe tbody tr th {\n        vertical-align: top;\n    }\n\n    .dataframe thead th {\n        text-align: right;\n    }\n</style>\n<table border=\"1\" class=\"dataframe\">\n  <thead>\n    <tr style=\"text-align: right;\">\n      <th></th>\n      <th>Accident Number</th>\n      <th>Date and Time</th>\n      <th>Latitude</th>\n      <th>Longitude</th>\n    </tr>\n  </thead>\n  <tbody>\n    <tr>\n      <th>0</th>\n      <td>20181075326</td>\n      <td>12/31/2018 11:10:00 PM</td>\n      <td>36.1769</td>\n      <td>-86.5971</td>\n    </tr>\n    <tr>\n      <th>1</th>\n      <td>20181075323</td>\n      <td>12/31/2018 11:09:00 PM</td>\n      <td>36.1770</td>\n      <td>-86.7746</td>\n    </tr>\n  </tbody>\n</table>\n</div>"
     },
     "metadata": {},
     "output_type": "execute_result",
     "execution_count": 6
    }
   ],
   "source": [
    "ana_df=import_df[['Accident Number', 'Date and Time','Latitude', 'Longitude']]\n",
    "ana_df.head(2)\n"
   ],
   "metadata": {
    "collapsed": false,
    "pycharm": {
     "name": "#%%\n",
     "is_executing": false
    }
   }
  },
  {
   "cell_type": "code",
   "execution_count": 7,
   "outputs": [
    {
     "name": "stdout",
     "text": [
      "<class 'pandas.core.frame.DataFrame'>\nRangeIndex: 34479 entries, 0 to 34478\nData columns (total 4 columns):\nAccident Number    34479 non-null int64\nDate and Time      34479 non-null object\nLatitude           34446 non-null float64\nLongitude          34446 non-null float64\ndtypes: float64(2), int64(1), object(1)\nmemory usage: 1.1+ MB\n"
     ],
     "output_type": "stream"
    }
   ],
   "source": [
    "ana_df.info()"
   ],
   "metadata": {
    "collapsed": false,
    "pycharm": {
     "name": "#%%\n",
     "is_executing": false
    }
   }
  },
  {
   "cell_type": "code",
   "execution_count": 8,
   "outputs": [
    {
     "name": "stderr",
     "text": [
      "/anaconda3/envs/2019zachary/lib/python3.7/site-packages/ipykernel_launcher.py:2: SettingWithCopyWarning: \nA value is trying to be set on a copy of a slice from a DataFrame.\nTry using .loc[row_indexer,col_indexer] = value instead\n\nSee the caveats in the documentation: http://pandas.pydata.org/pandas-docs/stable/indexing.html#indexing-view-versus-copy\n  \n"
     ],
     "output_type": "stream"
    },
    {
     "data": {
      "text/plain": "Accident Number             int64\nDate and Time              object\nLatitude                  float64\nLongitude                 float64\nDate               datetime64[ns]\ndtype: object"
     },
     "metadata": {},
     "output_type": "execute_result",
     "execution_count": 8
    }
   ],
   "source": [
    "# convert the 'Date' column to datetime format \n",
    "ana_df['Date']= pd.to_datetime(ana_df['Date and Time'])\n",
    "ana_df.head(2)\n",
    "ana_df.dtypes"
   ],
   "metadata": {
    "collapsed": false,
    "pycharm": {
     "name": "#%%\n",
     "is_executing": false
    }
   }
  },
  {
   "cell_type": "code",
   "execution_count": 10,
   "outputs": [
    {
     "data": {
      "text/plain": "0        23\n1        23\n2        22\n3        22\n4        22\n5        22\n6        22\n7        21\n8        21\n9        21\n10       20\n11       20\n12       20\n13       20\n14       20\n15       19\n16       18\n17       18\n18       18\n19       18\n20       17\n21       17\n22       17\n23       17\n24       17\n25       17\n26       16\n27       16\n28       16\n29       16\n         ..\n34449     9\n34450     9\n34451     9\n34452     8\n34453     8\n34454     8\n34455     5\n34456     5\n34457     3\n34458     2\n34459     1\n34460     1\n34461     1\n34462     1\n34463     1\n34464     1\n34465     0\n34466     0\n34467     0\n34468     0\n34469     0\n34470     0\n34471     0\n34472     0\n34473     0\n34474     0\n34475     0\n34476     0\n34477     0\n34478     0\nName: Date, Length: 34479, dtype: int64"
     },
     "metadata": {},
     "output_type": "execute_result",
     "execution_count": 10
    }
   ],
   "source": [
    "ana_df.Date.dt.hour\n"
   ],
   "metadata": {
    "collapsed": false,
    "pycharm": {
     "name": "#%%\n",
     "is_executing": false
    }
   }
  },
  {
   "cell_type": "code",
   "execution_count": null,
   "outputs": [],
   "source": [
    "\n"
   ],
   "metadata": {
    "collapsed": false,
    "pycharm": {
     "name": "#%%\n"
    }
   }
  }
 ],
 "metadata": {
  "language_info": {
   "codemirror_mode": {
    "name": "ipython",
    "version": 2
   },
   "file_extension": ".py",
   "mimetype": "text/x-python",
   "name": "python",
   "nbconvert_exporter": "python",
   "pygments_lexer": "ipython2",
   "version": "2.7.6"
  },
  "kernelspec": {
   "name": "pycharm-53b2394d",
   "language": "python",
   "display_name": "PyCharm (1STPROJECT_2019)"
  },
  "pycharm": {
   "stem_cell": {
    "cell_type": "raw",
    "source": [],
    "metadata": {
     "collapsed": false
    }
   }
  }
 },
 "nbformat": 4,
 "nbformat_minor": 0
}