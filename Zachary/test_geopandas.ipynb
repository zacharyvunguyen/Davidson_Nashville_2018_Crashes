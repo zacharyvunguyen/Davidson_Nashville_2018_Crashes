{
 "cells": [
  {
   "cell_type": "code",
   "execution_count": 3,
   "metadata": {
    "collapsed": true,
    "pycharm": {
     "is_executing": false
    }
   },
   "outputs": [],
   "source": [
    "import pandas as pd\n",
    "import matplotlib.pyplot as plt\n",
    "import geopandas as gpd\n",
    "import descartes\n",
    "from shapely.geometry import Point, Polygon\n",
    "import fiona\n",
    "%matplotlib inline\n"
   ]
  },
  {
   "cell_type": "code",
   "execution_count": 4,
   "outputs": [
    {
     "name": "stderr",
     "text": [
      "Shell is not a LinearRing\n",
      "Shell is not a LinearRing\n",
      "Shell is not a LinearRing\n",
      "Shell is not a LinearRing\n",
      "Shell is not a LinearRing\n",
      "Shell is not a LinearRing\n",
      "Shell is not a LinearRing\n",
      "Shell is not a LinearRing\n",
      "Shell is not a LinearRing\n",
      "Shell is not a LinearRing\n",
      "Shell is not a LinearRing\n",
      "Shell is not a LinearRing\n",
      "Shell is not a LinearRing\n",
      "Shell is not a LinearRing\n",
      "Shell is not a LinearRing\n",
      "Shell is not a LinearRing\n",
      "Shell is not a LinearRing\n",
      "Shell is not a LinearRing\n",
      "Shell is not a LinearRing\n",
      "Shell is not a LinearRing\n",
      "Shell is not a LinearRing\n",
      "Shell is not a LinearRing\n",
      "Shell is not a LinearRing\n",
      "Shell is not a LinearRing\n",
      "Shell is not a LinearRing\n",
      "Shell is not a LinearRing\n",
      "Shell is not a LinearRing\n",
      "Shell is not a LinearRing\n",
      "Shell is not a LinearRing\n",
      "Shell is not a LinearRing\n",
      "Shell is not a LinearRing\n",
      "Shell is not a LinearRing\n",
      "Shell is not a LinearRing\n",
      "Shell is not a LinearRing\n",
      "Shell is not a LinearRing\n",
      "Shell is not a LinearRing\n",
      "Shell is not a LinearRing\n",
      "Shell is not a LinearRing\n",
      "Shell is not a LinearRing\n",
      "Shell is not a LinearRing\n",
      "Shell is not a LinearRing\n",
      "Shell is not a LinearRing\n",
      "Shell is not a LinearRing\n",
      "Shell is not a LinearRing\n",
      "Shell is not a LinearRing\n",
      "Shell is not a LinearRing\n",
      "Shell is not a LinearRing\n",
      "Shell is not a LinearRing\n",
      "Shell is not a LinearRing\n",
      "Shell is not a LinearRing\n",
      "Shell is not a LinearRing\n",
      "Shell is not a LinearRing\n",
      "Shell is not a LinearRing\n",
      "Shell is not a LinearRing\n",
      "Shell is not a LinearRing\n",
      "Shell is not a LinearRing\n",
      "Shell is not a LinearRing\n",
      "Shell is not a LinearRing\n",
      "Shell is not a LinearRing\n",
      "Shell is not a LinearRing\n",
      "Shell is not a LinearRing\n",
      "Shell is not a LinearRing\n",
      "Shell is not a LinearRing\n",
      "Shell is not a LinearRing\n",
      "Shell is not a LinearRing\n",
      "Shell is not a LinearRing\n",
      "Shell is not a LinearRing\n",
      "Shell is not a LinearRing\n",
      "Shell is not a LinearRing\n",
      "Shell is not a LinearRing\n",
      "Shell is not a LinearRing\n",
      "Shell is not a LinearRing\n",
      "Shell is not a LinearRing\n",
      "Shell is not a LinearRing\n",
      "Shell is not a LinearRing\n",
      "Shell is not a LinearRing\n",
      "Shell is not a LinearRing\n",
      "Shell is not a LinearRing\n",
      "Shell is not a LinearRing\n",
      "Shell is not a LinearRing\n",
      "Shell is not a LinearRing\n",
      "Shell is not a LinearRing\n",
      "Shell is not a LinearRing\n",
      "Shell is not a LinearRing\n",
      "Shell is not a LinearRing\n",
      "Shell is not a LinearRing\n",
      "Shell is not a LinearRing\n",
      "Shell is not a LinearRing\n",
      "Shell is not a LinearRing\n",
      "Shell is not a LinearRing\n",
      "Shell is not a LinearRing\n",
      "Shell is not a LinearRing\n",
      "Shell is not a LinearRing\n",
      "Shell is not a LinearRing\n",
      "Shell is not a LinearRing\n",
      "Shell is not a LinearRing\n",
      "Shell is not a LinearRing\n",
      "Shell is not a LinearRing\n",
      "Shell is not a LinearRing\n",
      "Shell is not a LinearRing\n",
      "Shell is not a LinearRing\n",
      "Shell is not a LinearRing\n",
      "Shell is not a LinearRing\n",
      "Shell is not a LinearRing\n",
      "Shell is not a LinearRing\n",
      "Shell is not a LinearRing\n",
      "Shell is not a LinearRing\n",
      "Shell is not a LinearRing\n",
      "Shell is not a LinearRing\n",
      "Shell is not a LinearRing\n",
      "Shell is not a LinearRing\n",
      "Shell is not a LinearRing\n",
      "Shell is not a LinearRing\n",
      "Shell is not a LinearRing\n",
      "Shell is not a LinearRing\n",
      "Shell is not a LinearRing\n",
      "Shell is not a LinearRing\n",
      "Shell is not a LinearRing\n",
      "Shell is not a LinearRing\n",
      "Shell is not a LinearRing\n",
      "Shell is not a LinearRing\n",
      "Shell is not a LinearRing\n",
      "Shell is not a LinearRing\n",
      "Shell is not a LinearRing\n",
      "Shell is not a LinearRing\n",
      "Shell is not a LinearRing\n",
      "Shell is not a LinearRing\n"
     ],
     "output_type": "stream"
    }
   ],
   "source": [
    "\n",
    "url = \"http://d2ad6b4ur7yvpq.cloudfront.net/naturalearth-3.3.0/ne_110m_land.geojson\"\n",
    "df = gpd.read_file(url)\n",
    "\n"
   ],
   "metadata": {
    "collapsed": false,
    "pycharm": {
     "name": "#%%\n",
     "is_executing": false
    }
   }
  },
  {
   "cell_type": "code",
   "execution_count": 3,
   "outputs": [
    {
     "name": "stderr",
     "text": [
      "Shell is not a LinearRing\n",
      "Shell is not a LinearRing\n",
      "Shell is not a LinearRing\n",
      "Shell is not a LinearRing\n",
      "Shell is not a LinearRing\n",
      "Shell is not a LinearRing\n",
      "Shell is not a LinearRing\n",
      "Shell is not a LinearRing\n",
      "Shell is not a LinearRing\n",
      "Shell is not a LinearRing\n",
      "Shell is not a LinearRing\n",
      "Shell is not a LinearRing\n",
      "Shell is not a LinearRing\n",
      "Shell is not a LinearRing\n",
      "Shell is not a LinearRing\n",
      "Shell is not a LinearRing\n",
      "Shell is not a LinearRing\n",
      "Shell is not a LinearRing\n",
      "Shell is not a LinearRing\n",
      "Shell is not a LinearRing\n",
      "Shell is not a LinearRing\n",
      "Shell is not a LinearRing\n",
      "Shell is not a LinearRing\n",
      "Shell is not a LinearRing\n",
      "Shell is not a LinearRing\n",
      "Shell is not a LinearRing\n",
      "Shell is not a LinearRing\n",
      "Shell is not a LinearRing\n",
      "Shell is not a LinearRing\n",
      "Shell is not a LinearRing\n",
      "Shell is not a LinearRing\n",
      "Shell is not a LinearRing\n",
      "Shell is not a LinearRing\n",
      "Shell is not a LinearRing\n",
      "Shell is not a LinearRing\n",
      "Shell is not a LinearRing\n",
      "Shell is not a LinearRing\n",
      "Shell is not a LinearRing\n",
      "Shell is not a LinearRing\n",
      "Shell is not a LinearRing\n",
      "Shell is not a LinearRing\n",
      "Shell is not a LinearRing\n",
      "Shell is not a LinearRing\n",
      "Shell is not a LinearRing\n",
      "Shell is not a LinearRing\n",
      "Shell is not a LinearRing\n",
      "Shell is not a LinearRing\n",
      "Shell is not a LinearRing\n",
      "Shell is not a LinearRing\n",
      "Shell is not a LinearRing\n",
      "Shell is not a LinearRing\n",
      "Shell is not a LinearRing\n",
      "Shell is not a LinearRing\n",
      "Shell is not a LinearRing\n",
      "Shell is not a LinearRing\n",
      "Shell is not a LinearRing\n"
     ],
     "output_type": "stream"
    }
   ],
   "source": [
    "zip_map=gpd.read_file(\"../Data_Sources/map/ZipCodes/geo_export_47dc4838-b058-4957-a7a6-c205fb132372.shp\")\n",
    "\n",
    "\n"
   ],
   "metadata": {
    "collapsed": false,
    "pycharm": {
     "name": "#%%\n",
     "is_executing": false
    }
   }
  },
  {
   "cell_type": "code",
   "execution_count": null,
   "outputs": [],
   "source": [
    "\n"
   ],
   "metadata": {
    "collapsed": false,
    "pycharm": {
     "name": "#%%\n"
    }
   }
  }
 ],
 "metadata": {
  "language_info": {
   "codemirror_mode": {
    "name": "ipython",
    "version": 2
   },
   "file_extension": ".py",
   "mimetype": "text/x-python",
   "name": "python",
   "nbconvert_exporter": "python",
   "pygments_lexer": "ipython2",
   "version": "2.7.6"
  },
  "kernelspec": {
   "name": "pycharm-1fb91480",
   "language": "python",
   "display_name": "PyCharm (Project1)"
  },
  "pycharm": {
   "stem_cell": {
    "cell_type": "raw",
    "source": [],
    "metadata": {
     "collapsed": false
    }
   }
  }
 },
 "nbformat": 4,
 "nbformat_minor": 0
}